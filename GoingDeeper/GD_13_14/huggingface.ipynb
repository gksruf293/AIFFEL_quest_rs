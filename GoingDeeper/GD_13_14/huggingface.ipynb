{
 "cells": [
  {
   "cell_type": "code",
   "execution_count": 1,
   "id": "b1066dab",
   "metadata": {},
   "outputs": [
    {
     "name": "stdout",
     "output_type": "stream",
     "text": [
      "2.6.0\n",
      "1.21.4\n",
      "4.11.3\n",
      "1.14.0\n",
      "GPU 사용 가능: True\n",
      "GPU 이름: Tesla T4\n",
      "사용 중인 디바이스: 0\n",
      "총 GPU 수: 1\n"
     ]
    }
   ],
   "source": [
    "import tensorflow\n",
    "import numpy\n",
    "import transformers\n",
    "import datasets\n",
    "\n",
    "print(tensorflow.__version__)\n",
    "print(numpy.__version__)\n",
    "print(transformers.__version__)\n",
    "print(datasets.__version__)\n",
    "\n",
    "import torch\n",
    "\n",
    "print(\"GPU 사용 가능:\", torch.cuda.is_available())\n",
    "if torch.cuda.is_available():\n",
    "    print(\"GPU 이름:\", torch.cuda.get_device_name(0))\n",
    "    print(\"사용 중인 디바이스:\", torch.cuda.current_device())\n",
    "    print(\"총 GPU 수:\", torch.cuda.device_count())"
   ]
  },
  {
   "cell_type": "markdown",
   "id": "db6d4462",
   "metadata": {},
   "source": [
    "nsmc 데이터 불러오기"
   ]
  },
  {
   "cell_type": "code",
   "execution_count": 2,
   "id": "ef892b25",
   "metadata": {},
   "outputs": [
    {
     "name": "stderr",
     "output_type": "stream",
     "text": [
      "Using custom data configuration default\n",
      "Reusing dataset nsmc (/aiffel/.cache/huggingface/datasets/e9t___nsmc)/default/1.1.0/bfd4729bf1a67114e5267e6916b9e4807010aeb238e4a3c2b95fbfa3a014b5f3)\n"
     ]
    },
    {
     "data": {
      "application/vnd.jupyter.widget-view+json": {
       "model_id": "f49634c99f6b48139acd2a66f8b4acd9",
       "version_major": 2,
       "version_minor": 0
      },
      "text/plain": [
       "  0%|          | 0/2 [00:00<?, ?it/s]"
      ]
     },
     "metadata": {},
     "output_type": "display_data"
    }
   ],
   "source": [
    "from datasets import load_dataset\n",
    "\n",
    "ds = load_dataset(\"e9t/nsmc\")"
   ]
  },
  {
   "cell_type": "code",
   "execution_count": 3,
   "id": "8d1707e9",
   "metadata": {},
   "outputs": [
    {
     "name": "stdout",
     "output_type": "stream",
     "text": [
      "DatasetDict({\n",
      "    train: Dataset({\n",
      "        features: ['id', 'document', 'label'],\n",
      "        num_rows: 150000\n",
      "    })\n",
      "    test: Dataset({\n",
      "        features: ['id', 'document', 'label'],\n",
      "        num_rows: 50000\n",
      "    })\n",
      "})\n",
      "{'label': 0, 'id': '9976970', 'document': '아 더빙.. 진짜 짜증나네요 목소리'}\n"
     ]
    }
   ],
   "source": [
    "print(ds)\n",
    "print(ds['train'][0])"
   ]
  },
  {
   "cell_type": "markdown",
   "id": "ef96fe60",
   "metadata": {},
   "source": [
    "클래스 불균형이 있는지 검사"
   ]
  },
  {
   "cell_type": "code",
   "execution_count": 4,
   "id": "72f5037f",
   "metadata": {},
   "outputs": [
    {
     "name": "stdout",
     "output_type": "stream",
     "text": [
      "Train: Counter({0: 75173, 1: 74827})\n",
      "Test : Counter({1: 25173, 0: 24827})\n"
     ]
    }
   ],
   "source": [
    "from collections import Counter\n",
    "\n",
    "train_labels = [x['label'] for x in ds['train']]\n",
    "test_labels = [x['label'] for x in ds['test']]\n",
    "print(\"Train:\", Counter(train_labels))\n",
    "print(\"Test :\", Counter(test_labels))"
   ]
  },
  {
   "cell_type": "markdown",
   "id": "fef15cb5",
   "metadata": {},
   "source": [
    "데이터 별 길이 검사"
   ]
  },
  {
   "cell_type": "code",
   "execution_count": 5,
   "id": "b0f4d0ef",
   "metadata": {},
   "outputs": [
    {
     "data": {
      "image/png": "[encoded data removed]",
      "text/plain": [
       "<Figure size 432x288 with 1 Axes>"
      ]
     },
     "metadata": {
      "needs_background": "light"
     },
     "output_type": "display_data"
    }
   ],
   "source": [
    "import matplotlib.pyplot as plt\n",
    "\n",
    "lengths = [len(x['document']) for x in ds['train']]\n",
    "plt.hist(lengths, bins=50)\n",
    "plt.title(\"Text Length Distribution (Train)\")\n",
    "plt.xlabel(\"Length\")\n",
    "plt.ylabel(\"Count\")\n",
    "plt.show()"
   ]
  },
  {
   "cell_type": "code",
   "execution_count": 6,
   "id": "25e091da",
   "metadata": {},
   "outputs": [
    {
     "name": "stdout",
     "output_type": "stream",
     "text": [
      "아 더빙.. 진짜 짜증나네요 목소리\n",
      "흠...포스터보고 초딩영화줄....오버연기조차 가볍지 않구나\n",
      "너무재밓었다그래서보는것을추천한다\n",
      "교도소 이야기구먼 ..솔직히 재미는 없다..평점 조정\n",
      "사이몬페그의 익살스런 연기가 돋보였던 영화!스파이더맨에서 늙어보이기만 했던 커스틴 던스트가 너무나도 이뻐보였다\n"
     ]
    }
   ],
   "source": [
    "for i in range(5):\n",
    "    print(ds['train'][i]['document'])"
   ]
  },
  {
   "cell_type": "markdown",
   "id": "7a3c482b",
   "metadata": {},
   "source": [
    "klue/bert-base model 및 tokenizer 불러오기"
   ]
  },
  {
   "cell_type": "code",
   "execution_count": 9,
   "id": "39e0e42a",
   "metadata": {},
   "outputs": [
    {
     "name": "stderr",
     "output_type": "stream",
     "text": [
      "Some weights of the model checkpoint at klue/bert-base were not used when initializing BertForSequenceClassification: ['cls.seq_relationship.weight', 'cls.predictions.decoder.weight', 'cls.predictions.decoder.bias', 'cls.seq_relationship.bias', 'cls.predictions.transform.dense.bias', 'cls.predictions.transform.dense.weight', 'cls.predictions.bias', 'cls.predictions.transform.LayerNorm.weight', 'cls.predictions.transform.LayerNorm.bias']\n",
      "- This IS expected if you are initializing BertForSequenceClassification from the checkpoint of a model trained on another task or with another architecture (e.g. initializing a BertForSequenceClassification model from a BertForPreTraining model).\n",
      "- This IS NOT expected if you are initializing BertForSequenceClassification from the checkpoint of a model that you expect to be exactly identical (initializing a BertForSequenceClassification model from a BertForSequenceClassification model).\n",
      "Some weights of BertForSequenceClassification were not initialized from the model checkpoint at klue/bert-base and are newly initialized: ['classifier.weight', 'classifier.bias']\n",
      "You should probably TRAIN this model on a down-stream task to be able to use it for predictions and inference.\n"
     ]
    }
   ],
   "source": [
    "from transformers import AutoModel, AutoTokenizer, AutoModelForSequenceClassification\n",
    "\n",
    "model = AutoModelForSequenceClassification.from_pretrained(\"klue/bert-base\", num_labels=2)\n",
    "tokenizer = AutoTokenizer.from_pretrained(\"klue/bert-base\")"
   ]
  },
  {
   "cell_type": "markdown",
   "id": "7714b5b9",
   "metadata": {},
   "source": [
    "기본적인 transform에 padding의 길이가 512로 고정되어 있었기 때문에,\n",
    "\n",
    "padding = True 값을 주어 각 batch마다 다이나믹하게 padding이 이루어지도록 했습니다."
   ]
  },
  {
   "cell_type": "code",
   "execution_count": 10,
   "id": "de0454d8",
   "metadata": {},
   "outputs": [],
   "source": [
    "def transform(data):\n",
    "    return tokenizer(\n",
    "        data['document'],\n",
    "        truncation = True,\n",
    "        padding = True,\n",
    "        return_token_type_ids = False,\n",
    "        )"
   ]
  },
  {
   "cell_type": "code",
   "execution_count": 11,
   "id": "80ff0301",
   "metadata": {},
   "outputs": [
    {
     "name": "stderr",
     "output_type": "stream",
     "text": [
      "Loading cached processed dataset at /aiffel/.cache/huggingface/datasets/e9t___nsmc)/default/1.1.0/bfd4729bf1a67114e5267e6916b9e4807010aeb238e4a3c2b95fbfa3a014b5f3/cache-e7728ca4533191fb.arrow\n"
     ]
    },
    {
     "data": {
      "application/vnd.jupyter.widget-view+json": {
       "model_id": "b4c20bfe4e174e288189c2cc09d23530",
       "version_major": 2,
       "version_minor": 0
      },
      "text/plain": [
       "  0%|          | 0/50 [00:00<?, ?ba/s]"
      ]
     },
     "metadata": {},
     "output_type": "display_data"
    },
    {
     "data": {
      "text/plain": [
       "DatasetDict({\n",
       "    train: Dataset({\n",
       "        features: ['attention_mask', 'document', 'id', 'input_ids', 'label'],\n",
       "        num_rows: 150000\n",
       "    })\n",
       "    test: Dataset({\n",
       "        features: ['attention_mask', 'document', 'id', 'input_ids', 'label'],\n",
       "        num_rows: 50000\n",
       "    })\n",
       "})"
      ]
     },
     "execution_count": 11,
     "metadata": {},
     "output_type": "execute_result"
    }
   ],
   "source": [
    "hf_dataset = ds.map(transform, batched=True)\n",
    "hf_dataset"
   ]
  },
  {
   "cell_type": "code",
   "execution_count": 12,
   "id": "0f22a75a",
   "metadata": {},
   "outputs": [
    {
     "name": "stderr",
     "output_type": "stream",
     "text": [
      "Loading cached split indices for dataset at /aiffel/.cache/huggingface/datasets/e9t___nsmc)/default/1.1.0/bfd4729bf1a67114e5267e6916b9e4807010aeb238e4a3c2b95fbfa3a014b5f3/cache-414e4055675a23d4.arrow and /aiffel/.cache/huggingface/datasets/e9t___nsmc)/default/1.1.0/bfd4729bf1a67114e5267e6916b9e4807010aeb238e4a3c2b95fbfa3a014b5f3/cache-da6fd33af4267e13.arrow\n"
     ]
    }
   ],
   "source": [
    "from datasets import DatasetDict\n",
    "\n",
    "# 기존 DatasetDict: ds\n",
    "# 예: ds['train'], ds['test'] 존재\n",
    "\n",
    "# 1. train 데이터를 90:10 비율로 나누기\n",
    "split_ds = hf_dataset['train'].train_test_split(test_size=0.1, seed=42)\n",
    "\n",
    "# 2. 원래 DatasetDict에 병합\n",
    "hf_dataset = DatasetDict({\n",
    "    'train': split_ds['train'],\n",
    "    'validation': split_ds['test'],  # 10% eval set\n",
    "    'test': hf_dataset['test']\n",
    "})"
   ]
  },
  {
   "cell_type": "code",
   "execution_count": 13,
   "id": "01d97d9f",
   "metadata": {},
   "outputs": [
    {
     "name": "stdout",
     "output_type": "stream",
     "text": [
      "Train: Counter({0: 67703, 1: 67297})\n",
      "Val : Counter({1: 7530, 0: 7470})\n",
      "Test : Counter({1: 25173, 0: 24827})\n"
     ]
    }
   ],
   "source": [
    "from collections import Counter\n",
    "\n",
    "train_labels = [x['label'] for x in hf_dataset['train']]\n",
    "val_labels = [x['label'] for x in hf_dataset['validation']]\n",
    "test_labels = [x['label'] for x in hf_dataset['test']]\n",
    "print(\"Train:\", Counter(train_labels))\n",
    "print(\"Val :\", Counter(val_labels))\n",
    "print(\"Test :\", Counter(test_labels))"
   ]
  },
  {
   "cell_type": "markdown",
   "id": "5de7d0e2",
   "metadata": {},
   "source": [
    "padding을 적용한 결과, 거의 대부분의 데이터가 90~120 정도의 길이의 패딩으로 처리되었습니다."
   ]
  },
  {
   "cell_type": "code",
   "execution_count": 14,
   "id": "57a61128",
   "metadata": {},
   "outputs": [
    {
     "data": {
      "image/png": "[encoded data removed]",
      "text/plain": [
       "<Figure size 432x288 with 1 Axes>"
      ]
     },
     "metadata": {
      "needs_background": "light"
     },
     "output_type": "display_data"
    }
   ],
   "source": [
    "import matplotlib.pyplot as plt\n",
    "\n",
    "lengths = [len(x['attention_mask']) for x in hf_dataset['train']]\n",
    "plt.hist(lengths, bins=50)\n",
    "plt.title(\"Text Length Distribution (Train)\")\n",
    "plt.xlabel(\"Length\")\n",
    "plt.ylabel(\"Count\")\n",
    "plt.show()"
   ]
  },
  {
   "cell_type": "markdown",
   "id": "9b5e81b7",
   "metadata": {},
   "source": [
    "학습 속도를 빠르게 하기 위해 batch_size를 최대한으로 키우고,\n",
    "\n",
    "GPU에서 mixed precision을 사용하도록 하여 (fp16=True) 속도 향상을 유도했습니다.\n",
    "\n",
    "mixed precision : 일부 연산은 16비트 부동소수점으로 수행. 정밀도가 낮은 대신 속도가 두 배 빠름."
   ]
  },
  {
   "cell_type": "code",
   "execution_count": 15,
   "id": "e15eb69c",
   "metadata": {},
   "outputs": [],
   "source": [
    "import os\n",
    "import numpy as np\n",
    "from transformers import Trainer, TrainingArguments\n",
    "\n",
    "output_dir = os.getenv('HOME')+'/aiffel/transformers'\n",
    "\n",
    "training_arguments = TrainingArguments(\n",
    "    output_dir,                                         # output이 저장될 경로\n",
    "    evaluation_strategy=\"epoch\",           #evaluation하는 빈도\n",
    "    learning_rate = 2e-5,                         #learning_rate\n",
    "    per_device_train_batch_size = 96,   # 각 device 당 batch size\n",
    "    per_device_eval_batch_size = 96,    # evaluation 시에 batch size\n",
    "    num_train_epochs = 3,                     # train 시킬 총 epochs\n",
    "    weight_decay = 0.01,                        # weight decay\n",
    "    fp16=True,  \n",
    ")"
   ]
  },
  {
   "cell_type": "markdown",
   "id": "223d9fef",
   "metadata": {},
   "source": [
    "acc, precision, recall, f1을 학습 중에 모두 구하도록 했습니다."
   ]
  },
  {
   "cell_type": "code",
   "execution_count": 18,
   "id": "3f5cc4d9",
   "metadata": {},
   "outputs": [],
   "source": [
    "from datasets import load_metric\n",
    "acc_metric = load_metric(\"accuracy\")\n",
    "p_metric = load_metric(\"precision\")\n",
    "r_metric = load_metric(\"recall\")\n",
    "f1_metric = load_metric(\"f1\")\n",
    "\n",
    "def compute_metrics(eval_pred):\n",
    "    predictions, labels = eval_pred\n",
    "    predictions = np.argmax(predictions, axis=1)\n",
    "    return {\n",
    "        \"accuracy\": acc_metric.compute(predictions=predictions, references=labels)[\"accuracy\"],\n",
    "        \"precision\": p_metric.compute(predictions=predictions, references=labels, average=\"weighted\")[\"precision\"],\n",
    "        \"recall\": r_metric.compute(predictions=predictions, references=labels, average=\"weighted\")[\"recall\"],\n",
    "        \"f1\": f1_metric.compute(predictions=predictions, references=labels, average=\"weighted\")[\"f1\"],    }"
   ]
  },
  {
   "cell_type": "code",
   "execution_count": 19,
   "id": "562ead88",
   "metadata": {},
   "outputs": [
    {
     "name": "stderr",
     "output_type": "stream",
     "text": [
      "Using amp fp16 backend\n",
      "The following columns in the training set  don't have a corresponding argument in `BertForSequenceClassification.forward` and have been ignored: id, document.\n",
      "***** Running training *****\n",
      "  Num examples = 135000\n",
      "  Num Epochs = 3\n",
      "  Instantaneous batch size per device = 96\n",
      "  Total train batch size (w. parallel, distributed & accumulation) = 96\n",
      "  Gradient Accumulation steps = 1\n",
      "  Total optimization steps = 4221\n"
     ]
    },
    {
     "data": {
      "text/html": [
       "\n",
       "    <div>\n",
       "      \n",
       "      <progress value='4221' max='4221' style='width:300px; height:20px; vertical-align: middle;'></progress>\n",
       "      [4221/4221 1:21:59, Epoch 3/3]\n",
       "    </div>\n",
       "    <table border=\"1\" class=\"dataframe\">\n",
       "  <thead>\n",
       "    <tr style=\"text-align: left;\">\n",
       "      <th>Epoch</th>\n",
       "      <th>Training Loss</th>\n",
       "      <th>Validation Loss</th>\n",
       "      <th>Accuracy</th>\n",
       "      <th>Precision</th>\n",
       "      <th>Recall</th>\n",
       "      <th>F1</th>\n",
       "    </tr>\n",
       "  </thead>\n",
       "  <tbody>\n",
       "    <tr>\n",
       "      <td>1</td>\n",
       "      <td>0.144300</td>\n",
       "      <td>0.265637</td>\n",
       "      <td>0.898733</td>\n",
       "      <td>0.899335</td>\n",
       "      <td>0.898733</td>\n",
       "      <td>0.898686</td>\n",
       "    </tr>\n",
       "    <tr>\n",
       "      <td>2</td>\n",
       "      <td>0.155000</td>\n",
       "      <td>0.262291</td>\n",
       "      <td>0.904333</td>\n",
       "      <td>0.904608</td>\n",
       "      <td>0.904333</td>\n",
       "      <td>0.904311</td>\n",
       "    </tr>\n",
       "    <tr>\n",
       "      <td>3</td>\n",
       "      <td>0.110600</td>\n",
       "      <td>0.292942</td>\n",
       "      <td>0.906000</td>\n",
       "      <td>0.906101</td>\n",
       "      <td>0.906000</td>\n",
       "      <td>0.905991</td>\n",
       "    </tr>\n",
       "  </tbody>\n",
       "</table><p>"
      ],
      "text/plain": [
       "<IPython.core.display.HTML object>"
      ]
     },
     "metadata": {},
     "output_type": "display_data"
    },
    {
     "name": "stderr",
     "output_type": "stream",
     "text": [
      "Saving model checkpoint to /aiffel/aiffel/transformers/checkpoint-500\n",
      "Configuration saved in /aiffel/aiffel/transformers/checkpoint-500/config.json\n",
      "Model weights saved in /aiffel/aiffel/transformers/checkpoint-500/pytorch_model.bin\n",
      "Saving model checkpoint to /aiffel/aiffel/transformers/checkpoint-1000\n",
      "Configuration saved in /aiffel/aiffel/transformers/checkpoint-1000/config.json\n",
      "Model weights saved in /aiffel/aiffel/transformers/checkpoint-1000/pytorch_model.bin\n",
      "The following columns in the evaluation set  don't have a corresponding argument in `BertForSequenceClassification.forward` and have been ignored: id, document.\n",
      "***** Running Evaluation *****\n",
      "  Num examples = 15000\n",
      "  Batch size = 96\n",
      "Saving model checkpoint to /aiffel/aiffel/transformers/checkpoint-1500\n",
      "Configuration saved in /aiffel/aiffel/transformers/checkpoint-1500/config.json\n",
      "Model weights saved in /aiffel/aiffel/transformers/checkpoint-1500/pytorch_model.bin\n",
      "Saving model checkpoint to /aiffel/aiffel/transformers/checkpoint-2000\n",
      "Configuration saved in /aiffel/aiffel/transformers/checkpoint-2000/config.json\n",
      "Model weights saved in /aiffel/aiffel/transformers/checkpoint-2000/pytorch_model.bin\n",
      "/opt/conda/lib/python3.9/site-packages/transformers/trainer.py:1355: FutureWarning: Non-finite norm encountered in torch.nn.utils.clip_grad_norm_; continuing anyway. Note that the default behavior will change in a future release to error out if a non-finite total norm is encountered. At that point, setting error_if_nonfinite=false will be required to retain the old behavior.\n",
      "  nn.utils.clip_grad_norm_(\n",
      "Saving model checkpoint to /aiffel/aiffel/transformers/checkpoint-2500\n",
      "Configuration saved in /aiffel/aiffel/transformers/checkpoint-2500/config.json\n",
      "Model weights saved in /aiffel/aiffel/transformers/checkpoint-2500/pytorch_model.bin\n",
      "The following columns in the evaluation set  don't have a corresponding argument in `BertForSequenceClassification.forward` and have been ignored: id, document.\n",
      "***** Running Evaluation *****\n",
      "  Num examples = 15000\n",
      "  Batch size = 96\n",
      "Saving model checkpoint to /aiffel/aiffel/transformers/checkpoint-3000\n",
      "Configuration saved in /aiffel/aiffel/transformers/checkpoint-3000/config.json\n",
      "Model weights saved in /aiffel/aiffel/transformers/checkpoint-3000/pytorch_model.bin\n",
      "/opt/conda/lib/python3.9/site-packages/transformers/trainer.py:1355: FutureWarning: Non-finite norm encountered in torch.nn.utils.clip_grad_norm_; continuing anyway. Note that the default behavior will change in a future release to error out if a non-finite total norm is encountered. At that point, setting error_if_nonfinite=false will be required to retain the old behavior.\n",
      "  nn.utils.clip_grad_norm_(\n",
      "Saving model checkpoint to /aiffel/aiffel/transformers/checkpoint-3500\n",
      "Configuration saved in /aiffel/aiffel/transformers/checkpoint-3500/config.json\n",
      "Model weights saved in /aiffel/aiffel/transformers/checkpoint-3500/pytorch_model.bin\n",
      "Saving model checkpoint to /aiffel/aiffel/transformers/checkpoint-4000\n",
      "Configuration saved in /aiffel/aiffel/transformers/checkpoint-4000/config.json\n",
      "Model weights saved in /aiffel/aiffel/transformers/checkpoint-4000/pytorch_model.bin\n",
      "The following columns in the evaluation set  don't have a corresponding argument in `BertForSequenceClassification.forward` and have been ignored: id, document.\n",
      "***** Running Evaluation *****\n",
      "  Num examples = 15000\n",
      "  Batch size = 96\n",
      "\n",
      "\n",
      "Training completed. Do not forget to share your model on huggingface.co/models =)\n",
      "\n",
      "\n"
     ]
    },
    {
     "data": {
      "text/plain": [
       "TrainOutput(global_step=4221, training_loss=0.14114827506493066, metrics={'train_runtime': 4920.6463, 'train_samples_per_second': 82.306, 'train_steps_per_second': 0.858, 'total_flos': 2.813094603927936e+16, 'train_loss': 0.14114827506493066, 'epoch': 3.0})"
      ]
     },
     "execution_count": 19,
     "metadata": {},
     "output_type": "execute_result"
    }
   ],
   "source": [
    "from transformers import DataCollatorWithPadding\n",
    "\n",
    "data_collator = DataCollatorWithPadding(tokenizer)\n",
    "\n",
    "trainer = Trainer(\n",
    "    model=model,           # 학습시킬 model\n",
    "    args=training_arguments,           # TrainingArguments을 통해 설정한 arguments\n",
    "    train_dataset=hf_dataset['train'],    # training dataset\n",
    "    eval_dataset=hf_dataset['validation'],       # evaluation dataset\n",
    "    compute_metrics=compute_metrics,\n",
    "    \n",
    "    data_collator=data_collator,\n",
    ")\n",
    "trainer.train()"
   ]
  },
  {
   "cell_type": "code",
   "execution_count": 20,
   "id": "7bc31471",
   "metadata": {},
   "outputs": [
    {
     "name": "stderr",
     "output_type": "stream",
     "text": [
      "The following columns in the evaluation set  don't have a corresponding argument in `BertForSequenceClassification.forward` and have been ignored: id, document.\n",
      "***** Running Evaluation *****\n",
      "  Num examples = 50000\n",
      "  Batch size = 96\n"
     ]
    },
    {
     "data": {
      "text/html": [
       "\n",
       "    <div>\n",
       "      \n",
       "      <progress value='521' max='521' style='width:300px; height:20px; vertical-align: middle;'></progress>\n",
       "      [521/521 06:45]\n",
       "    </div>\n",
       "    "
      ],
      "text/plain": [
       "<IPython.core.display.HTML object>"
      ]
     },
     "metadata": {},
     "output_type": "display_data"
    },
    {
     "data": {
      "text/plain": [
       "{'eval_loss': 0.2999923527240753,\n",
       " 'eval_accuracy': 0.89882,\n",
       " 'eval_precision': 0.8988247540561971,\n",
       " 'eval_recall': 0.89882,\n",
       " 'eval_f1': 0.8988179468053329,\n",
       " 'eval_runtime': 407.426,\n",
       " 'eval_samples_per_second': 122.722,\n",
       " 'eval_steps_per_second': 1.279,\n",
       " 'epoch': 3.0}"
      ]
     },
     "execution_count": 20,
     "metadata": {},
     "output_type": "execute_result"
    }
   ],
   "source": [
    "trainer.evaluate(hf_dataset['test'])"
   ]
  },
  {
   "cell_type": "markdown",
   "id": "44c8105a",
   "metadata": {},
   "source": [
    "### preprocessing 개선"
   ]
  },
  {
   "cell_type": "code",
   "execution_count": 29,
   "id": "3666ad4e",
   "metadata": {},
   "outputs": [],
   "source": [
    "import re\n",
    "\n",
    "def clean(example):\n",
    "    txt = example[\"document\"]\n",
    "    txt = re.sub(r\"[^가-힣a-zA-Z0-9\\s.,!?']\", \" \", txt)\n",
    "    txt = re.sub(r\"\\s+\", \" \", txt).strip()\n",
    "    txt = re.sub(r\"(.)\\1{2,}\", r\"\\1\\1\", txt)\n",
    "    return {\"document\": txt}"
   ]
  },
  {
   "cell_type": "code",
   "execution_count": 30,
   "id": "b6aa5c05",
   "metadata": {},
   "outputs": [
    {
     "data": {
      "application/vnd.jupyter.widget-view+json": {
       "model_id": "3344ce4232db4280826588c3fa0a894e",
       "version_major": 2,
       "version_minor": 0
      },
      "text/plain": [
       "  0%|          | 0/150000 [00:00<?, ?ex/s]"
      ]
     },
     "metadata": {},
     "output_type": "display_data"
    },
    {
     "data": {
      "application/vnd.jupyter.widget-view+json": {
       "model_id": "53158e7d98ea484bb6a1a43b8bb01bdc",
       "version_major": 2,
       "version_minor": 0
      },
      "text/plain": [
       "  0%|          | 0/50000 [00:00<?, ?ex/s]"
      ]
     },
     "metadata": {},
     "output_type": "display_data"
    },
    {
     "data": {
      "text/plain": [
       "DatasetDict({\n",
       "    train: Dataset({\n",
       "        features: ['id', 'document', 'label'],\n",
       "        num_rows: 150000\n",
       "    })\n",
       "    test: Dataset({\n",
       "        features: ['id', 'document', 'label'],\n",
       "        num_rows: 50000\n",
       "    })\n",
       "    clean_train: Dataset({\n",
       "        features: ['id', 'document', 'label'],\n",
       "        num_rows: 150000\n",
       "    })\n",
       "    clean_test: Dataset({\n",
       "        features: ['id', 'document', 'label'],\n",
       "        num_rows: 50000\n",
       "    })\n",
       "})"
      ]
     },
     "execution_count": 30,
     "metadata": {},
     "output_type": "execute_result"
    }
   ],
   "source": [
    "from datasets import Dataset\n",
    "\n",
    "# 정제 적용\n",
    "clean_ds = DatasetDict({\n",
    "    'train': ds['train'],\n",
    "    'test': ds['test'],\n",
    "    'clean_train': ds['train'].map(clean),\n",
    "    'clean_test': ds['test'].map(clean)\n",
    "})\n",
    "\n",
    "\n",
    "clean_ds"
   ]
  },
  {
   "cell_type": "code",
   "execution_count": 31,
   "id": "e8c60bcb",
   "metadata": {},
   "outputs": [
    {
     "data": {
      "text/plain": [
       "DatasetDict({\n",
       "    train: Dataset({\n",
       "        features: ['id', 'document', 'label'],\n",
       "        num_rows: 135000\n",
       "    })\n",
       "    validation: Dataset({\n",
       "        features: ['id', 'document', 'label'],\n",
       "        num_rows: 15000\n",
       "    })\n",
       "    test: Dataset({\n",
       "        features: ['id', 'document', 'label'],\n",
       "        num_rows: 50000\n",
       "    })\n",
       "})"
      ]
     },
     "execution_count": 31,
     "metadata": {},
     "output_type": "execute_result"
    }
   ],
   "source": [
    "split_ds = clean_ds['clean_train'].train_test_split(test_size=0.1, seed=42)\n",
    "\n",
    "# 2. 원래 DatasetDict에 병합\n",
    "clean_ds = DatasetDict({\n",
    "    'train': split_ds['train'],\n",
    "    'validation': split_ds['test'],  # 10% eval set\n",
    "    'test': clean_ds['clean_test']\n",
    "})\n",
    "\n",
    "clean_ds"
   ]
  },
  {
   "cell_type": "code",
   "execution_count": 32,
   "id": "110f035b",
   "metadata": {},
   "outputs": [
    {
     "data": {
      "application/vnd.jupyter.widget-view+json": {
       "model_id": "77b8f146bd4e47efadebe23b508b42d3",
       "version_major": 2,
       "version_minor": 0
      },
      "text/plain": [
       "  0%|          | 0/135 [00:00<?, ?ba/s]"
      ]
     },
     "metadata": {},
     "output_type": "display_data"
    },
    {
     "data": {
      "application/vnd.jupyter.widget-view+json": {
       "model_id": "bef1f52891684f1f93365f339613c3a1",
       "version_major": 2,
       "version_minor": 0
      },
      "text/plain": [
       "  0%|          | 0/15 [00:00<?, ?ba/s]"
      ]
     },
     "metadata": {},
     "output_type": "display_data"
    },
    {
     "data": {
      "application/vnd.jupyter.widget-view+json": {
       "model_id": "67a76d26557842219f34213e53d53e38",
       "version_major": 2,
       "version_minor": 0
      },
      "text/plain": [
       "  0%|          | 0/50 [00:00<?, ?ba/s]"
      ]
     },
     "metadata": {},
     "output_type": "display_data"
    },
    {
     "data": {
      "text/plain": [
       "DatasetDict({\n",
       "    train: Dataset({\n",
       "        features: ['attention_mask', 'document', 'id', 'input_ids', 'label'],\n",
       "        num_rows: 135000\n",
       "    })\n",
       "    validation: Dataset({\n",
       "        features: ['attention_mask', 'document', 'id', 'input_ids', 'label'],\n",
       "        num_rows: 15000\n",
       "    })\n",
       "    test: Dataset({\n",
       "        features: ['attention_mask', 'document', 'id', 'input_ids', 'label'],\n",
       "        num_rows: 50000\n",
       "    })\n",
       "})"
      ]
     },
     "execution_count": 32,
     "metadata": {},
     "output_type": "execute_result"
    }
   ],
   "source": [
    "clean_ds = clean_ds.map(transform, batched=True)\n",
    "clean_ds"
   ]
  },
  {
   "cell_type": "code",
   "execution_count": 33,
   "id": "a4bc3719",
   "metadata": {},
   "outputs": [
    {
     "name": "stderr",
     "output_type": "stream",
     "text": [
      "PyTorch: setting up devices\n",
      "The default value for the training argument `--report_to` will change in v5 (from all installed integrations to none). In v5, you will need to use `--report_to all` to get the same behavior as now. You should start updating your code and make this info disappear :-).\n"
     ]
    }
   ],
   "source": [
    "output_dir = os.getenv('HOME')+'/aiffel/transformers/trainingarg'\n",
    "\n",
    "new_training_arguments = TrainingArguments(\n",
    "    output_dir,                                         # output이 저장될 경로\n",
    "    evaluation_strategy=\"epoch\",           #evaluation하는 빈도\n",
    "    learning_rate = 2e-5,                         #learning_rate\n",
    "    per_device_train_batch_size = 96,   # 각 device 당 batch size\n",
    "    per_device_eval_batch_size = 96,    # evaluation 시에 batch size\n",
    "    num_train_epochs = 3,                     # train 시킬 총 epochs\n",
    "    weight_decay = 0.01,                        # weight decay\n",
    "    fp16=True,  \n",
    "    warmup_ratio=0.1, \n",
    "    lr_scheduler_type=\"linear\",\n",
    ")"
   ]
  },
  {
   "cell_type": "code",
   "execution_count": 35,
   "id": "763ee8f4",
   "metadata": {},
   "outputs": [
    {
     "name": "stderr",
     "output_type": "stream",
     "text": [
      "loading configuration file https://huggingface.co/klue/bert-base/resolve/main/config.json from cache at /aiffel/.cache/huggingface/transformers/fbd0b2ef898c4653902683fea8cc0dd99bf43f0e082645b913cda3b92429d1bb.99b3298ed554f2ad731c27cdb11a6215f39b90bc845ff5ce709bb4e74ba45621\n",
      "Model config BertConfig {\n",
      "  \"architectures\": [\n",
      "    \"BertForMaskedLM\"\n",
      "  ],\n",
      "  \"attention_probs_dropout_prob\": 0.1,\n",
      "  \"classifier_dropout\": null,\n",
      "  \"hidden_act\": \"gelu\",\n",
      "  \"hidden_dropout_prob\": 0.1,\n",
      "  \"hidden_size\": 768,\n",
      "  \"initializer_range\": 0.02,\n",
      "  \"intermediate_size\": 3072,\n",
      "  \"layer_norm_eps\": 1e-12,\n",
      "  \"max_position_embeddings\": 512,\n",
      "  \"model_type\": \"bert\",\n",
      "  \"num_attention_heads\": 12,\n",
      "  \"num_hidden_layers\": 12,\n",
      "  \"pad_token_id\": 0,\n",
      "  \"position_embedding_type\": \"absolute\",\n",
      "  \"transformers_version\": \"4.11.3\",\n",
      "  \"type_vocab_size\": 2,\n",
      "  \"use_cache\": true,\n",
      "  \"vocab_size\": 32000\n",
      "}\n",
      "\n",
      "loading weights file https://huggingface.co/klue/bert-base/resolve/main/pytorch_model.bin from cache at /aiffel/.cache/huggingface/transformers/05b36ee62545d769939a7746eca739b844a40a7a7553700f110b58b28ed6a949.7cb231256a5dbe886e12b902d05cb1241f330d8c19428508f91b2b28c1cfe0b6\n",
      "Some weights of the model checkpoint at klue/bert-base were not used when initializing BertForSequenceClassification: ['cls.seq_relationship.weight', 'cls.predictions.decoder.weight', 'cls.predictions.decoder.bias', 'cls.seq_relationship.bias', 'cls.predictions.transform.dense.bias', 'cls.predictions.transform.dense.weight', 'cls.predictions.bias', 'cls.predictions.transform.LayerNorm.weight', 'cls.predictions.transform.LayerNorm.bias']\n",
      "- This IS expected if you are initializing BertForSequenceClassification from the checkpoint of a model trained on another task or with another architecture (e.g. initializing a BertForSequenceClassification model from a BertForPreTraining model).\n",
      "- This IS NOT expected if you are initializing BertForSequenceClassification from the checkpoint of a model that you expect to be exactly identical (initializing a BertForSequenceClassification model from a BertForSequenceClassification model).\n",
      "Some weights of BertForSequenceClassification were not initialized from the model checkpoint at klue/bert-base and are newly initialized: ['classifier.weight', 'classifier.bias']\n",
      "You should probably TRAIN this model on a down-stream task to be able to use it for predictions and inference.\n",
      "loading configuration file https://huggingface.co/klue/bert-base/resolve/main/config.json from cache at /aiffel/.cache/huggingface/transformers/fbd0b2ef898c4653902683fea8cc0dd99bf43f0e082645b913cda3b92429d1bb.99b3298ed554f2ad731c27cdb11a6215f39b90bc845ff5ce709bb4e74ba45621\n",
      "Model config BertConfig {\n",
      "  \"architectures\": [\n",
      "    \"BertForMaskedLM\"\n",
      "  ],\n",
      "  \"attention_probs_dropout_prob\": 0.1,\n",
      "  \"classifier_dropout\": null,\n",
      "  \"hidden_act\": \"gelu\",\n",
      "  \"hidden_dropout_prob\": 0.1,\n",
      "  \"hidden_size\": 768,\n",
      "  \"initializer_range\": 0.02,\n",
      "  \"intermediate_size\": 3072,\n",
      "  \"layer_norm_eps\": 1e-12,\n",
      "  \"max_position_embeddings\": 512,\n",
      "  \"model_type\": \"bert\",\n",
      "  \"num_attention_heads\": 12,\n",
      "  \"num_hidden_layers\": 12,\n",
      "  \"pad_token_id\": 0,\n",
      "  \"position_embedding_type\": \"absolute\",\n",
      "  \"transformers_version\": \"4.11.3\",\n",
      "  \"type_vocab_size\": 2,\n",
      "  \"use_cache\": true,\n",
      "  \"vocab_size\": 32000\n",
      "}\n",
      "\n",
      "loading file https://huggingface.co/klue/bert-base/resolve/main/vocab.txt from cache at /aiffel/.cache/huggingface/transformers/1a36e69d48a008e522b75e43693002ffc8b6e6df72de7c53412c23466ec165eb.085110015ec67fc02ad067f712a7c83aafefaf31586a3361dd800bcac635b456\n",
      "loading file https://huggingface.co/klue/bert-base/resolve/main/tokenizer.json from cache at /aiffel/.cache/huggingface/transformers/310a974e892b181d75eed58b545cc0592d066ae4ef35cc760ea92e9b0bf65b3b.74f7933572f937b11a02b2cfb4e88a024059be36c84f53241b85b1fec49e21f7\n",
      "loading file https://huggingface.co/klue/bert-base/resolve/main/added_tokens.json from cache at None\n",
      "loading file https://huggingface.co/klue/bert-base/resolve/main/special_tokens_map.json from cache at /aiffel/.cache/huggingface/transformers/aeaaa3afd086a040be912f92ffe7b5f85008b744624f4517c4216bcc32b51cf0.054ece8d16bd524c8a00f0e8a976c00d5de22a755ffb79e353ee2954d9289e26\n",
      "loading file https://huggingface.co/klue/bert-base/resolve/main/tokenizer_config.json from cache at /aiffel/.cache/huggingface/transformers/f8f71eb411bb03f57b455cfb1b4e04ae124201312e67a3ad66e0a92d0c228325.78871951edcb66032caa0a9628d77b3557c23616c653dacdb7a1a8f33011a843\n",
      "loading configuration file https://huggingface.co/klue/bert-base/resolve/main/config.json from cache at /aiffel/.cache/huggingface/transformers/fbd0b2ef898c4653902683fea8cc0dd99bf43f0e082645b913cda3b92429d1bb.99b3298ed554f2ad731c27cdb11a6215f39b90bc845ff5ce709bb4e74ba45621\n",
      "Model config BertConfig {\n",
      "  \"architectures\": [\n",
      "    \"BertForMaskedLM\"\n",
      "  ],\n",
      "  \"attention_probs_dropout_prob\": 0.1,\n",
      "  \"classifier_dropout\": null,\n",
      "  \"hidden_act\": \"gelu\",\n",
      "  \"hidden_dropout_prob\": 0.1,\n",
      "  \"hidden_size\": 768,\n",
      "  \"initializer_range\": 0.02,\n",
      "  \"intermediate_size\": 3072,\n",
      "  \"layer_norm_eps\": 1e-12,\n",
      "  \"max_position_embeddings\": 512,\n",
      "  \"model_type\": \"bert\",\n",
      "  \"num_attention_heads\": 12,\n",
      "  \"num_hidden_layers\": 12,\n",
      "  \"pad_token_id\": 0,\n",
      "  \"position_embedding_type\": \"absolute\",\n",
      "  \"transformers_version\": \"4.11.3\",\n",
      "  \"type_vocab_size\": 2,\n",
      "  \"use_cache\": true,\n",
      "  \"vocab_size\": 32000\n",
      "}\n",
      "\n",
      "Using amp fp16 backend\n",
      "The following columns in the training set  don't have a corresponding argument in `BertForSequenceClassification.forward` and have been ignored: id, document.\n",
      "***** Running training *****\n",
      "  Num examples = 135000\n",
      "  Num Epochs = 3\n",
      "  Instantaneous batch size per device = 96\n",
      "  Total train batch size (w. parallel, distributed & accumulation) = 96\n",
      "  Gradient Accumulation steps = 1\n",
      "  Total optimization steps = 4221\n"
     ]
    },
    {
     "data": {
      "text/html": [
       "\n",
       "    <div>\n",
       "      \n",
       "      <progress value='4221' max='4221' style='width:300px; height:20px; vertical-align: middle;'></progress>\n",
       "      [4221/4221 1:17:09, Epoch 3/3]\n",
       "    </div>\n",
       "    <table border=\"1\" class=\"dataframe\">\n",
       "  <thead>\n",
       "    <tr style=\"text-align: left;\">\n",
       "      <th>Epoch</th>\n",
       "      <th>Training Loss</th>\n",
       "      <th>Validation Loss</th>\n",
       "      <th>Accuracy</th>\n",
       "      <th>Precision</th>\n",
       "      <th>Recall</th>\n",
       "      <th>F1</th>\n",
       "    </tr>\n",
       "  </thead>\n",
       "  <tbody>\n",
       "    <tr>\n",
       "      <td>1</td>\n",
       "      <td>0.283400</td>\n",
       "      <td>0.258135</td>\n",
       "      <td>0.891667</td>\n",
       "      <td>0.892648</td>\n",
       "      <td>0.891667</td>\n",
       "      <td>0.891586</td>\n",
       "    </tr>\n",
       "    <tr>\n",
       "      <td>2</td>\n",
       "      <td>0.208000</td>\n",
       "      <td>0.242096</td>\n",
       "      <td>0.902067</td>\n",
       "      <td>0.902853</td>\n",
       "      <td>0.902067</td>\n",
       "      <td>0.902009</td>\n",
       "    </tr>\n",
       "    <tr>\n",
       "      <td>3</td>\n",
       "      <td>0.158800</td>\n",
       "      <td>0.257848</td>\n",
       "      <td>0.902333</td>\n",
       "      <td>0.902515</td>\n",
       "      <td>0.902333</td>\n",
       "      <td>0.902318</td>\n",
       "    </tr>\n",
       "  </tbody>\n",
       "</table><p>"
      ],
      "text/plain": [
       "<IPython.core.display.HTML object>"
      ]
     },
     "metadata": {},
     "output_type": "display_data"
    },
    {
     "name": "stderr",
     "output_type": "stream",
     "text": [
      "Saving model checkpoint to /aiffel/aiffel/transformers/trainingarg/checkpoint-500\n",
      "Configuration saved in /aiffel/aiffel/transformers/trainingarg/checkpoint-500/config.json\n",
      "Model weights saved in /aiffel/aiffel/transformers/trainingarg/checkpoint-500/pytorch_model.bin\n",
      "Saving model checkpoint to /aiffel/aiffel/transformers/trainingarg/checkpoint-1000\n",
      "Configuration saved in /aiffel/aiffel/transformers/trainingarg/checkpoint-1000/config.json\n",
      "Model weights saved in /aiffel/aiffel/transformers/trainingarg/checkpoint-1000/pytorch_model.bin\n",
      "The following columns in the evaluation set  don't have a corresponding argument in `BertForSequenceClassification.forward` and have been ignored: id, document.\n",
      "***** Running Evaluation *****\n",
      "  Num examples = 15000\n",
      "  Batch size = 96\n",
      "Saving model checkpoint to /aiffel/aiffel/transformers/trainingarg/checkpoint-1500\n",
      "Configuration saved in /aiffel/aiffel/transformers/trainingarg/checkpoint-1500/config.json\n",
      "Model weights saved in /aiffel/aiffel/transformers/trainingarg/checkpoint-1500/pytorch_model.bin\n",
      "Saving model checkpoint to /aiffel/aiffel/transformers/trainingarg/checkpoint-2000\n",
      "Configuration saved in /aiffel/aiffel/transformers/trainingarg/checkpoint-2000/config.json\n",
      "Model weights saved in /aiffel/aiffel/transformers/trainingarg/checkpoint-2000/pytorch_model.bin\n",
      "/opt/conda/lib/python3.9/site-packages/transformers/trainer.py:1355: FutureWarning: Non-finite norm encountered in torch.nn.utils.clip_grad_norm_; continuing anyway. Note that the default behavior will change in a future release to error out if a non-finite total norm is encountered. At that point, setting error_if_nonfinite=false will be required to retain the old behavior.\n",
      "  nn.utils.clip_grad_norm_(\n",
      "Saving model checkpoint to /aiffel/aiffel/transformers/trainingarg/checkpoint-2500\n",
      "Configuration saved in /aiffel/aiffel/transformers/trainingarg/checkpoint-2500/config.json\n",
      "Model weights saved in /aiffel/aiffel/transformers/trainingarg/checkpoint-2500/pytorch_model.bin\n",
      "The following columns in the evaluation set  don't have a corresponding argument in `BertForSequenceClassification.forward` and have been ignored: id, document.\n",
      "***** Running Evaluation *****\n",
      "  Num examples = 15000\n",
      "  Batch size = 96\n",
      "Saving model checkpoint to /aiffel/aiffel/transformers/trainingarg/checkpoint-3000\n",
      "Configuration saved in /aiffel/aiffel/transformers/trainingarg/checkpoint-3000/config.json\n",
      "Model weights saved in /aiffel/aiffel/transformers/trainingarg/checkpoint-3000/pytorch_model.bin\n",
      "Saving model checkpoint to /aiffel/aiffel/transformers/trainingarg/checkpoint-3500\n",
      "Configuration saved in /aiffel/aiffel/transformers/trainingarg/checkpoint-3500/config.json\n",
      "Model weights saved in /aiffel/aiffel/transformers/trainingarg/checkpoint-3500/pytorch_model.bin\n",
      "Saving model checkpoint to /aiffel/aiffel/transformers/trainingarg/checkpoint-4000\n",
      "Configuration saved in /aiffel/aiffel/transformers/trainingarg/checkpoint-4000/config.json\n",
      "Model weights saved in /aiffel/aiffel/transformers/trainingarg/checkpoint-4000/pytorch_model.bin\n",
      "/opt/conda/lib/python3.9/site-packages/transformers/trainer.py:1355: FutureWarning: Non-finite norm encountered in torch.nn.utils.clip_grad_norm_; continuing anyway. Note that the default behavior will change in a future release to error out if a non-finite total norm is encountered. At that point, setting error_if_nonfinite=false will be required to retain the old behavior.\n",
      "  nn.utils.clip_grad_norm_(\n",
      "The following columns in the evaluation set  don't have a corresponding argument in `BertForSequenceClassification.forward` and have been ignored: id, document.\n",
      "***** Running Evaluation *****\n",
      "  Num examples = 15000\n",
      "  Batch size = 96\n",
      "\n",
      "\n",
      "Training completed. Do not forget to share your model on huggingface.co/models =)\n",
      "\n",
      "\n"
     ]
    },
    {
     "data": {
      "text/plain": [
       "TrainOutput(global_step=4221, training_loss=0.23167884499505356, metrics={'train_runtime': 4630.8777, 'train_samples_per_second': 87.456, 'train_steps_per_second': 0.911, 'total_flos': 2.599925315763456e+16, 'train_loss': 0.23167884499505356, 'epoch': 3.0})"
      ]
     },
     "execution_count": 35,
     "metadata": {},
     "output_type": "execute_result"
    }
   ],
   "source": [
    "from transformers import DataCollatorWithPadding\n",
    "\n",
    "model = AutoModelForSequenceClassification.from_pretrained(\"klue/bert-base\", num_labels=2)\n",
    "tokenizer = AutoTokenizer.from_pretrained(\"klue/bert-base\")\n",
    "data_collator = DataCollatorWithPadding(tokenizer)\n",
    "\n",
    "trainer = Trainer(\n",
    "    model=model,           # 학습시킬 model\n",
    "    args=new_training_arguments,           # TrainingArguments을 통해 설정한 arguments\n",
    "    train_dataset=clean_ds['train'],    # training dataset\n",
    "    eval_dataset=clean_ds['validation'],       # evaluation dataset\n",
    "    compute_metrics=compute_metrics,\n",
    "    \n",
    "    data_collator=data_collator,\n",
    ")\n",
    "trainer.train()"
   ]
  },
  {
   "cell_type": "code",
   "execution_count": 36,
   "id": "4c8dadd5",
   "metadata": {},
   "outputs": [
    {
     "name": "stderr",
     "output_type": "stream",
     "text": [
      "The following columns in the evaluation set  don't have a corresponding argument in `BertForSequenceClassification.forward` and have been ignored: id, document.\n",
      "***** Running Evaluation *****\n",
      "  Num examples = 50000\n",
      "  Batch size = 96\n"
     ]
    },
    {
     "data": {
      "text/html": [
       "\n",
       "    <div>\n",
       "      \n",
       "      <progress value='521' max='521' style='width:300px; height:20px; vertical-align: middle;'></progress>\n",
       "      [521/521 06:35]\n",
       "    </div>\n",
       "    "
      ],
      "text/plain": [
       "<IPython.core.display.HTML object>"
      ]
     },
     "metadata": {},
     "output_type": "display_data"
    },
    {
     "data": {
      "text/plain": [
       "{'eval_loss': 0.2664232552051544,\n",
       " 'eval_accuracy': 0.89938,\n",
       " 'eval_precision': 0.8997255774459729,\n",
       " 'eval_recall': 0.89938,\n",
       " 'eval_f1': 0.899346377725127,\n",
       " 'eval_runtime': 397.0963,\n",
       " 'eval_samples_per_second': 125.914,\n",
       " 'eval_steps_per_second': 1.312,\n",
       " 'epoch': 3.0}"
      ]
     },
     "execution_count": 36,
     "metadata": {},
     "output_type": "execute_result"
    }
   ],
   "source": [
    "trainer.evaluate(clean_ds['test'])"
   ]
  },
  {
   "cell_type": "markdown",
   "id": "5d50dc39",
   "metadata": {},
   "source": [
    "### Bucketing 적용"
   ]
  },
  {
   "cell_type": "code",
   "execution_count": 37,
   "id": "2e37a621",
   "metadata": {},
   "outputs": [
    {
     "name": "stderr",
     "output_type": "stream",
     "text": [
      "PyTorch: setting up devices\n",
      "The default value for the training argument `--report_to` will change in v5 (from all installed integrations to none). In v5, you will need to use `--report_to all` to get the same behavior as now. You should start updating your code and make this info disappear :-).\n"
     ]
    }
   ],
   "source": [
    "output_dir = os.getenv('HOME')+'/aiffel/transformers/bucketing'\n",
    "\n",
    "new_training_arguments2 = TrainingArguments(\n",
    "    output_dir,                                         # output이 저장될 경로\n",
    "    evaluation_strategy=\"epoch\",           #evaluation하는 빈도\n",
    "    learning_rate = 2e-5,                         #learning_rate\n",
    "    per_device_train_batch_size = 96,   # 각 device 당 batch size\n",
    "    per_device_eval_batch_size = 96,    # evaluation 시에 batch size\n",
    "    num_train_epochs = 3,                     # train 시킬 총 epochs\n",
    "    weight_decay = 0.01,                        # weight decay\n",
    "    fp16=True,\n",
    "    group_by_length=True, # bucketing\n",
    "    warmup_ratio=0.1, \n",
    "    lr_scheduler_type=\"linear\",\n",
    ")"
   ]
  },
  {
   "cell_type": "code",
   "execution_count": 38,
   "id": "b3e57a24",
   "metadata": {},
   "outputs": [
    {
     "name": "stderr",
     "output_type": "stream",
     "text": [
      "loading configuration file https://huggingface.co/klue/bert-base/resolve/main/config.json from cache at /aiffel/.cache/huggingface/transformers/fbd0b2ef898c4653902683fea8cc0dd99bf43f0e082645b913cda3b92429d1bb.99b3298ed554f2ad731c27cdb11a6215f39b90bc845ff5ce709bb4e74ba45621\n",
      "Model config BertConfig {\n",
      "  \"architectures\": [\n",
      "    \"BertForMaskedLM\"\n",
      "  ],\n",
      "  \"attention_probs_dropout_prob\": 0.1,\n",
      "  \"classifier_dropout\": null,\n",
      "  \"hidden_act\": \"gelu\",\n",
      "  \"hidden_dropout_prob\": 0.1,\n",
      "  \"hidden_size\": 768,\n",
      "  \"initializer_range\": 0.02,\n",
      "  \"intermediate_size\": 3072,\n",
      "  \"layer_norm_eps\": 1e-12,\n",
      "  \"max_position_embeddings\": 512,\n",
      "  \"model_type\": \"bert\",\n",
      "  \"num_attention_heads\": 12,\n",
      "  \"num_hidden_layers\": 12,\n",
      "  \"pad_token_id\": 0,\n",
      "  \"position_embedding_type\": \"absolute\",\n",
      "  \"transformers_version\": \"4.11.3\",\n",
      "  \"type_vocab_size\": 2,\n",
      "  \"use_cache\": true,\n",
      "  \"vocab_size\": 32000\n",
      "}\n",
      "\n",
      "loading weights file https://huggingface.co/klue/bert-base/resolve/main/pytorch_model.bin from cache at /aiffel/.cache/huggingface/transformers/05b36ee62545d769939a7746eca739b844a40a7a7553700f110b58b28ed6a949.7cb231256a5dbe886e12b902d05cb1241f330d8c19428508f91b2b28c1cfe0b6\n",
      "Some weights of the model checkpoint at klue/bert-base were not used when initializing BertForSequenceClassification: ['cls.seq_relationship.weight', 'cls.predictions.decoder.weight', 'cls.predictions.decoder.bias', 'cls.seq_relationship.bias', 'cls.predictions.transform.dense.bias', 'cls.predictions.transform.dense.weight', 'cls.predictions.bias', 'cls.predictions.transform.LayerNorm.weight', 'cls.predictions.transform.LayerNorm.bias']\n",
      "- This IS expected if you are initializing BertForSequenceClassification from the checkpoint of a model trained on another task or with another architecture (e.g. initializing a BertForSequenceClassification model from a BertForPreTraining model).\n",
      "- This IS NOT expected if you are initializing BertForSequenceClassification from the checkpoint of a model that you expect to be exactly identical (initializing a BertForSequenceClassification model from a BertForSequenceClassification model).\n",
      "Some weights of BertForSequenceClassification were not initialized from the model checkpoint at klue/bert-base and are newly initialized: ['classifier.weight', 'classifier.bias']\n",
      "You should probably TRAIN this model on a down-stream task to be able to use it for predictions and inference.\n",
      "loading configuration file https://huggingface.co/klue/bert-base/resolve/main/config.json from cache at /aiffel/.cache/huggingface/transformers/fbd0b2ef898c4653902683fea8cc0dd99bf43f0e082645b913cda3b92429d1bb.99b3298ed554f2ad731c27cdb11a6215f39b90bc845ff5ce709bb4e74ba45621\n",
      "Model config BertConfig {\n",
      "  \"architectures\": [\n",
      "    \"BertForMaskedLM\"\n",
      "  ],\n",
      "  \"attention_probs_dropout_prob\": 0.1,\n",
      "  \"classifier_dropout\": null,\n",
      "  \"hidden_act\": \"gelu\",\n",
      "  \"hidden_dropout_prob\": 0.1,\n",
      "  \"hidden_size\": 768,\n",
      "  \"initializer_range\": 0.02,\n",
      "  \"intermediate_size\": 3072,\n",
      "  \"layer_norm_eps\": 1e-12,\n",
      "  \"max_position_embeddings\": 512,\n",
      "  \"model_type\": \"bert\",\n",
      "  \"num_attention_heads\": 12,\n",
      "  \"num_hidden_layers\": 12,\n",
      "  \"pad_token_id\": 0,\n",
      "  \"position_embedding_type\": \"absolute\",\n",
      "  \"transformers_version\": \"4.11.3\",\n",
      "  \"type_vocab_size\": 2,\n",
      "  \"use_cache\": true,\n",
      "  \"vocab_size\": 32000\n",
      "}\n",
      "\n",
      "loading file https://huggingface.co/klue/bert-base/resolve/main/vocab.txt from cache at /aiffel/.cache/huggingface/transformers/1a36e69d48a008e522b75e43693002ffc8b6e6df72de7c53412c23466ec165eb.085110015ec67fc02ad067f712a7c83aafefaf31586a3361dd800bcac635b456\n",
      "loading file https://huggingface.co/klue/bert-base/resolve/main/tokenizer.json from cache at /aiffel/.cache/huggingface/transformers/310a974e892b181d75eed58b545cc0592d066ae4ef35cc760ea92e9b0bf65b3b.74f7933572f937b11a02b2cfb4e88a024059be36c84f53241b85b1fec49e21f7\n",
      "loading file https://huggingface.co/klue/bert-base/resolve/main/added_tokens.json from cache at None\n",
      "loading file https://huggingface.co/klue/bert-base/resolve/main/special_tokens_map.json from cache at /aiffel/.cache/huggingface/transformers/aeaaa3afd086a040be912f92ffe7b5f85008b744624f4517c4216bcc32b51cf0.054ece8d16bd524c8a00f0e8a976c00d5de22a755ffb79e353ee2954d9289e26\n",
      "loading file https://huggingface.co/klue/bert-base/resolve/main/tokenizer_config.json from cache at /aiffel/.cache/huggingface/transformers/f8f71eb411bb03f57b455cfb1b4e04ae124201312e67a3ad66e0a92d0c228325.78871951edcb66032caa0a9628d77b3557c23616c653dacdb7a1a8f33011a843\n",
      "loading configuration file https://huggingface.co/klue/bert-base/resolve/main/config.json from cache at /aiffel/.cache/huggingface/transformers/fbd0b2ef898c4653902683fea8cc0dd99bf43f0e082645b913cda3b92429d1bb.99b3298ed554f2ad731c27cdb11a6215f39b90bc845ff5ce709bb4e74ba45621\n",
      "Model config BertConfig {\n",
      "  \"architectures\": [\n",
      "    \"BertForMaskedLM\"\n",
      "  ],\n",
      "  \"attention_probs_dropout_prob\": 0.1,\n",
      "  \"classifier_dropout\": null,\n",
      "  \"hidden_act\": \"gelu\",\n",
      "  \"hidden_dropout_prob\": 0.1,\n",
      "  \"hidden_size\": 768,\n",
      "  \"initializer_range\": 0.02,\n",
      "  \"intermediate_size\": 3072,\n",
      "  \"layer_norm_eps\": 1e-12,\n",
      "  \"max_position_embeddings\": 512,\n",
      "  \"model_type\": \"bert\",\n",
      "  \"num_attention_heads\": 12,\n",
      "  \"num_hidden_layers\": 12,\n",
      "  \"pad_token_id\": 0,\n",
      "  \"position_embedding_type\": \"absolute\",\n",
      "  \"transformers_version\": \"4.11.3\",\n",
      "  \"type_vocab_size\": 2,\n",
      "  \"use_cache\": true,\n",
      "  \"vocab_size\": 32000\n",
      "}\n",
      "\n",
      "Using amp fp16 backend\n",
      "The following columns in the training set  don't have a corresponding argument in `BertForSequenceClassification.forward` and have been ignored: id, document.\n",
      "***** Running training *****\n",
      "  Num examples = 135000\n",
      "  Num Epochs = 3\n",
      "  Instantaneous batch size per device = 96\n",
      "  Total train batch size (w. parallel, distributed & accumulation) = 96\n",
      "  Gradient Accumulation steps = 1\n",
      "  Total optimization steps = 4221\n"
     ]
    },
    {
     "data": {
      "text/html": [
       "\n",
       "    <div>\n",
       "      \n",
       "      <progress value='4221' max='4221' style='width:300px; height:20px; vertical-align: middle;'></progress>\n",
       "      [4221/4221 59:15, Epoch 3/3]\n",
       "    </div>\n",
       "    <table border=\"1\" class=\"dataframe\">\n",
       "  <thead>\n",
       "    <tr style=\"text-align: left;\">\n",
       "      <th>Epoch</th>\n",
       "      <th>Training Loss</th>\n",
       "      <th>Validation Loss</th>\n",
       "      <th>Accuracy</th>\n",
       "      <th>Precision</th>\n",
       "      <th>Recall</th>\n",
       "      <th>F1</th>\n",
       "    </tr>\n",
       "  </thead>\n",
       "  <tbody>\n",
       "    <tr>\n",
       "      <td>1</td>\n",
       "      <td>0.283100</td>\n",
       "      <td>0.243362</td>\n",
       "      <td>0.902400</td>\n",
       "      <td>0.902868</td>\n",
       "      <td>0.902400</td>\n",
       "      <td>0.902379</td>\n",
       "    </tr>\n",
       "    <tr>\n",
       "      <td>2</td>\n",
       "      <td>0.206300</td>\n",
       "      <td>0.232954</td>\n",
       "      <td>0.907200</td>\n",
       "      <td>0.907257</td>\n",
       "      <td>0.907200</td>\n",
       "      <td>0.907194</td>\n",
       "    </tr>\n",
       "    <tr>\n",
       "      <td>3</td>\n",
       "      <td>0.157800</td>\n",
       "      <td>0.250652</td>\n",
       "      <td>0.906467</td>\n",
       "      <td>0.906479</td>\n",
       "      <td>0.906467</td>\n",
       "      <td>0.906465</td>\n",
       "    </tr>\n",
       "  </tbody>\n",
       "</table><p>"
      ],
      "text/plain": [
       "<IPython.core.display.HTML object>"
      ]
     },
     "metadata": {},
     "output_type": "display_data"
    },
    {
     "name": "stderr",
     "output_type": "stream",
     "text": [
      "Saving model checkpoint to /aiffel/aiffel/transformers/bucketing/checkpoint-500\n",
      "Configuration saved in /aiffel/aiffel/transformers/bucketing/checkpoint-500/config.json\n",
      "Model weights saved in /aiffel/aiffel/transformers/bucketing/checkpoint-500/pytorch_model.bin\n",
      "Saving model checkpoint to /aiffel/aiffel/transformers/bucketing/checkpoint-1000\n",
      "Configuration saved in /aiffel/aiffel/transformers/bucketing/checkpoint-1000/config.json\n",
      "Model weights saved in /aiffel/aiffel/transformers/bucketing/checkpoint-1000/pytorch_model.bin\n",
      "The following columns in the evaluation set  don't have a corresponding argument in `BertForSequenceClassification.forward` and have been ignored: id, document.\n",
      "***** Running Evaluation *****\n",
      "  Num examples = 15000\n",
      "  Batch size = 96\n",
      "Saving model checkpoint to /aiffel/aiffel/transformers/bucketing/checkpoint-1500\n",
      "Configuration saved in /aiffel/aiffel/transformers/bucketing/checkpoint-1500/config.json\n",
      "Model weights saved in /aiffel/aiffel/transformers/bucketing/checkpoint-1500/pytorch_model.bin\n",
      "Saving model checkpoint to /aiffel/aiffel/transformers/bucketing/checkpoint-2000\n",
      "Configuration saved in /aiffel/aiffel/transformers/bucketing/checkpoint-2000/config.json\n",
      "Model weights saved in /aiffel/aiffel/transformers/bucketing/checkpoint-2000/pytorch_model.bin\n",
      "/opt/conda/lib/python3.9/site-packages/transformers/trainer.py:1355: FutureWarning: Non-finite norm encountered in torch.nn.utils.clip_grad_norm_; continuing anyway. Note that the default behavior will change in a future release to error out if a non-finite total norm is encountered. At that point, setting error_if_nonfinite=false will be required to retain the old behavior.\n",
      "  nn.utils.clip_grad_norm_(\n",
      "Saving model checkpoint to /aiffel/aiffel/transformers/bucketing/checkpoint-2500\n",
      "Configuration saved in /aiffel/aiffel/transformers/bucketing/checkpoint-2500/config.json\n",
      "Model weights saved in /aiffel/aiffel/transformers/bucketing/checkpoint-2500/pytorch_model.bin\n",
      "The following columns in the evaluation set  don't have a corresponding argument in `BertForSequenceClassification.forward` and have been ignored: id, document.\n",
      "***** Running Evaluation *****\n",
      "  Num examples = 15000\n",
      "  Batch size = 96\n",
      "Saving model checkpoint to /aiffel/aiffel/transformers/bucketing/checkpoint-3000\n",
      "Configuration saved in /aiffel/aiffel/transformers/bucketing/checkpoint-3000/config.json\n",
      "Model weights saved in /aiffel/aiffel/transformers/bucketing/checkpoint-3000/pytorch_model.bin\n",
      "Saving model checkpoint to /aiffel/aiffel/transformers/bucketing/checkpoint-3500\n",
      "Configuration saved in /aiffel/aiffel/transformers/bucketing/checkpoint-3500/config.json\n",
      "Model weights saved in /aiffel/aiffel/transformers/bucketing/checkpoint-3500/pytorch_model.bin\n",
      "Saving model checkpoint to /aiffel/aiffel/transformers/bucketing/checkpoint-4000\n",
      "Configuration saved in /aiffel/aiffel/transformers/bucketing/checkpoint-4000/config.json\n",
      "Model weights saved in /aiffel/aiffel/transformers/bucketing/checkpoint-4000/pytorch_model.bin\n",
      "/opt/conda/lib/python3.9/site-packages/transformers/trainer.py:1355: FutureWarning: Non-finite norm encountered in torch.nn.utils.clip_grad_norm_; continuing anyway. Note that the default behavior will change in a future release to error out if a non-finite total norm is encountered. At that point, setting error_if_nonfinite=false will be required to retain the old behavior.\n",
      "  nn.utils.clip_grad_norm_(\n",
      "The following columns in the evaluation set  don't have a corresponding argument in `BertForSequenceClassification.forward` and have been ignored: id, document.\n",
      "***** Running Evaluation *****\n",
      "  Num examples = 15000\n",
      "  Batch size = 96\n",
      "\n",
      "\n",
      "Training completed. Do not forget to share your model on huggingface.co/models =)\n",
      "\n",
      "\n"
     ]
    },
    {
     "data": {
      "text/plain": [
       "TrainOutput(global_step=4221, training_loss=0.23095279721619535, metrics={'train_runtime': 3557.0876, 'train_samples_per_second': 113.857, 'train_steps_per_second': 1.187, 'total_flos': 2.067631095218976e+16, 'train_loss': 0.23095279721619535, 'epoch': 3.0})"
      ]
     },
     "execution_count": 38,
     "metadata": {},
     "output_type": "execute_result"
    }
   ],
   "source": [
    "model = AutoModelForSequenceClassification.from_pretrained(\"klue/bert-base\", num_labels=2)\n",
    "tokenizer = AutoTokenizer.from_pretrained(\"klue/bert-base\")\n",
    "data_collator = DataCollatorWithPadding(tokenizer)\n",
    "\n",
    "trainer = Trainer(\n",
    "    model=model,           # 학습시킬 model\n",
    "    args=new_training_arguments2,           # TrainingArguments을 통해 설정한 arguments\n",
    "    train_dataset=clean_ds['train'],    # training dataset\n",
    "    eval_dataset=clean_ds['validation'],       # evaluation dataset\n",
    "    compute_metrics=compute_metrics,\n",
    "    \n",
    "    data_collator=data_collator,\n",
    ")\n",
    "trainer.train()"
   ]
  },
  {
   "cell_type": "markdown",
   "id": "20f52fb0",
   "metadata": {},
   "source": [
    "test 데이터에 대한 성능이 소폭 상승하고, 학습도 15분 가량 빨리 끝났습니다."
   ]
  },
  {
   "cell_type": "code",
   "execution_count": 39,
   "id": "81a3e47c",
   "metadata": {},
   "outputs": [
    {
     "name": "stderr",
     "output_type": "stream",
     "text": [
      "The following columns in the evaluation set  don't have a corresponding argument in `BertForSequenceClassification.forward` and have been ignored: id, document.\n",
      "***** Running Evaluation *****\n",
      "  Num examples = 50000\n",
      "  Batch size = 96\n"
     ]
    },
    {
     "data": {
      "text/html": [
       "\n",
       "    <div>\n",
       "      \n",
       "      <progress value='521' max='521' style='width:300px; height:20px; vertical-align: middle;'></progress>\n",
       "      [521/521 06:36]\n",
       "    </div>\n",
       "    "
      ],
      "text/plain": [
       "<IPython.core.display.HTML object>"
      ]
     },
     "metadata": {},
     "output_type": "display_data"
    },
    {
     "data": {
      "text/plain": [
       "{'eval_loss': 0.25465598702430725,\n",
       " 'eval_accuracy': 0.90344,\n",
       " 'eval_precision': 0.9035097500330509,\n",
       " 'eval_recall': 0.90344,\n",
       " 'eval_f1': 0.9034305893701361,\n",
       " 'eval_runtime': 398.3475,\n",
       " 'eval_samples_per_second': 125.519,\n",
       " 'eval_steps_per_second': 1.308,\n",
       " 'epoch': 3.0}"
      ]
     },
     "execution_count": 39,
     "metadata": {},
     "output_type": "execute_result"
    }
   ],
   "source": [
    "trainer.evaluate(clean_ds['test'])"
   ]
  },
  {
   "cell_type": "code",
   "execution_count": 40,
   "id": "59051e94",
   "metadata": {},
   "outputs": [],
   "source": [
    "import pandas as pd\n",
    "import matplotlib.pyplot as plt\n",
    "\n",
    "# Trainer의 학습 로그 히스토리\n",
    "log_history = trainer.state.log_history\n",
    "\n",
    "# pandas DataFrame으로 변환\n",
    "df = pd.DataFrame(log_history)"
   ]
  },
  {
   "cell_type": "code",
   "execution_count": 41,
   "id": "1208f40c",
   "metadata": {},
   "outputs": [
    {
     "name": "stdout",
     "output_type": "stream",
     "text": [
      "Index(['loss', 'learning_rate', 'epoch', 'step', 'eval_loss', 'eval_accuracy',\n",
      "       'eval_precision', 'eval_recall', 'eval_f1', 'eval_runtime',\n",
      "       'eval_samples_per_second', 'eval_steps_per_second', 'train_runtime',\n",
      "       'train_samples_per_second', 'train_steps_per_second', 'total_flos',\n",
      "       'train_loss'],\n",
      "      dtype='object')\n"
     ]
    },
    {
     "data": {
      "image/png": "[encoded data removed]",
      "text/plain": [
       "<Figure size 720x360 with 1 Axes>"
      ]
     },
     "metadata": {
      "needs_background": "light"
     },
     "output_type": "display_data"
    }
   ],
   "source": [
    "print(df.columns)\n",
    "\n",
    "# loss 그래프 그리기\n",
    "plt.figure(figsize=(10, 5))\n",
    "if \"loss\" in df.columns:\n",
    "    plt.plot(df[\"step\"], df[\"loss\"], label=\"Train Loss\")\n",
    "if \"eval_loss\" in df.columns:\n",
    "    plt.plot(df[\"step\"], df[\"eval_loss\"], label=\"Eval Loss\")\n",
    "if \"eval_accuracy\" in df.columns:\n",
    "    plt.plot(df[\"step\"], df[\"eval_accuracy\"], label=\"Eval Accuracy\")\n",
    "\n",
    "plt.xlabel(\"Step\")\n",
    "plt.ylabel(\"Value\")\n",
    "plt.title(\"Learning Curve\")\n",
    "plt.legend()\n",
    "plt.grid()\n",
    "plt.show()"
   ]
  },
  {
   "cell_type": "code",
   "execution_count": 46,
   "id": "35255188",
   "metadata": {},
   "outputs": [
    {
     "name": "stdout",
     "output_type": "stream",
     "text": [
      "      loss  learning_rate  epoch  step  eval_loss  eval_accuracy  \\\n",
      "0   0.4086       0.000020   0.36   500        NaN            NaN   \n",
      "1   0.2831       0.000017   0.71  1000        NaN            NaN   \n",
      "2      NaN            NaN   1.00  1407   0.243362       0.902400   \n",
      "3   0.2526       0.000014   1.07  1500        NaN            NaN   \n",
      "4   0.2178       0.000012   1.42  2000        NaN            NaN   \n",
      "5   0.2063       0.000009   1.78  2500        NaN            NaN   \n",
      "6      NaN            NaN   2.00  2814   0.232954       0.907200   \n",
      "7   0.1909       0.000006   2.13  3000        NaN            NaN   \n",
      "8   0.1613       0.000004   2.49  3500        NaN            NaN   \n",
      "9   0.1578       0.000001   2.84  4000        NaN            NaN   \n",
      "10     NaN            NaN   3.00  4221   0.250652       0.906467   \n",
      "11     NaN            NaN   3.00  4221        NaN            NaN   \n",
      "12     NaN            NaN   3.00  4221   0.254656       0.903440   \n",
      "\n",
      "    eval_precision  eval_recall   eval_f1  eval_runtime  \\\n",
      "0              NaN          NaN       NaN           NaN   \n",
      "1              NaN          NaN       NaN           NaN   \n",
      "2         0.902868     0.902400  0.902379      114.6160   \n",
      "3              NaN          NaN       NaN           NaN   \n",
      "4              NaN          NaN       NaN           NaN   \n",
      "5              NaN          NaN       NaN           NaN   \n",
      "6         0.907257     0.907200  0.907194      114.7513   \n",
      "7              NaN          NaN       NaN           NaN   \n",
      "8              NaN          NaN       NaN           NaN   \n",
      "9              NaN          NaN       NaN           NaN   \n",
      "10        0.906479     0.906467  0.906465      114.4842   \n",
      "11             NaN          NaN       NaN           NaN   \n",
      "12        0.903510     0.903440  0.903431      398.3475   \n",
      "\n",
      "    eval_samples_per_second  eval_steps_per_second  train_runtime  \\\n",
      "0                       NaN                    NaN            NaN   \n",
      "1                       NaN                    NaN            NaN   \n",
      "2                   130.872                  1.370            NaN   \n",
      "3                       NaN                    NaN            NaN   \n",
      "4                       NaN                    NaN            NaN   \n",
      "5                       NaN                    NaN            NaN   \n",
      "6                   130.717                  1.368            NaN   \n",
      "7                       NaN                    NaN            NaN   \n",
      "8                       NaN                    NaN            NaN   \n",
      "9                       NaN                    NaN            NaN   \n",
      "10                  131.022                  1.371            NaN   \n",
      "11                      NaN                    NaN      3557.0876   \n",
      "12                  125.519                  1.308            NaN   \n",
      "\n",
      "    train_samples_per_second  train_steps_per_second    total_flos  train_loss  \n",
      "0                        NaN                     NaN           NaN         NaN  \n",
      "1                        NaN                     NaN           NaN         NaN  \n",
      "2                        NaN                     NaN           NaN         NaN  \n",
      "3                        NaN                     NaN           NaN         NaN  \n",
      "4                        NaN                     NaN           NaN         NaN  \n",
      "5                        NaN                     NaN           NaN         NaN  \n",
      "6                        NaN                     NaN           NaN         NaN  \n",
      "7                        NaN                     NaN           NaN         NaN  \n",
      "8                        NaN                     NaN           NaN         NaN  \n",
      "9                        NaN                     NaN           NaN         NaN  \n",
      "10                       NaN                     NaN           NaN         NaN  \n",
      "11                   113.857                   1.187  2.067631e+16    0.230953  \n",
      "12                       NaN                     NaN           NaN         NaN  \n"
     ]
    }
   ],
   "source": [
    "import matplotlib.pyplot as plt\n",
    "import pandas as pd\n",
    "\n",
    "# Trainer 로그 가져오기\n",
    "df = pd.DataFrame(trainer.state.log_history)\n",
    "\n",
    "print(df)"
   ]
  },
  {
   "cell_type": "code",
   "execution_count": 52,
   "id": "c8b6cf4c",
   "metadata": {},
   "outputs": [
    {
     "data": {
      "image/png": "[encoded data removed]",
      "text/plain": [
       "<Figure size 864x576 with 2 Axes>"
      ]
     },
     "metadata": {
      "needs_background": "light"
     },
     "output_type": "display_data"
    }
   ],
   "source": [
    "import matplotlib.pyplot as plt\n",
    "import pandas as pd\n",
    "\n",
    "# log_history에서 필요한 부분 정리\n",
    "df = pd.DataFrame(trainer.state.log_history)\n",
    "train_loss = df[df[\"loss\"].notnull()]\n",
    "eval_loss = df[df[\"eval_loss\"].notnull()]\n",
    "eval_acc = df[df[\"eval_accuracy\"].notnull()]\n",
    "\n",
    "# 마지막 평가 포인트 제외\n",
    "eval_loss_main = eval_loss.iloc[:-1]\n",
    "eval_loss_last = eval_loss.iloc[-1]\n",
    "\n",
    "eval_acc_main = eval_acc.iloc[:-1]\n",
    "eval_acc_last = eval_acc.iloc[-1]\n",
    "\n",
    "# 시각화\n",
    "fig, (ax1, ax2) = plt.subplots(2, 1, figsize=(12, 8), sharex=True)\n",
    "\n",
    "# (1) Train & Eval Loss Plot\n",
    "ax1.plot(train_loss[\"step\"], train_loss[\"loss\"], label=\"Train Loss\", color=\"tab:blue\")\n",
    "ax1.plot(eval_loss_main[\"step\"], eval_loss_main[\"eval_loss\"], label=\"Eval Loss\", color=\"tab:orange\")\n",
    "ax1.scatter(eval_loss_last[\"step\"], eval_loss_last[\"eval_loss\"], color=\"red\", s=80, marker=\"o\", label=\"Last Eval Loss\")\n",
    "ax1.set_ylabel(\"Loss\")\n",
    "ax1.set_title(\"Train & Eval Loss\")\n",
    "ax1.legend()\n",
    "ax1.grid(True)\n",
    "\n",
    "# (2) Eval Accuracy Plot\n",
    "ax2.plot(eval_acc_main[\"step\"], eval_acc_main[\"eval_accuracy\"], label=\"Eval Accuracy\", color=\"tab:green\")\n",
    "ax2.scatter(eval_acc_last[\"step\"], eval_acc_last[\"eval_accuracy\"], color=\"purple\", s=80, marker=\"o\", label=\"Last Eval Acc\")\n",
    "ax2.set_xlabel(\"Step\")\n",
    "ax2.set_ylabel(\"Accuracy\")\n",
    "ax2.set_ylim(bottom=0.9)  # 여기서 하한을 0.9로 고정\n",
    "ax2.set_title(\"Eval Accuracy (Y-axis ≥ 0.9)\")\n",
    "ax2.legend()\n",
    "ax2.grid(True)\n",
    "\n",
    "plt.tight_layout()\n",
    "plt.show()\n"
   ]
  },
  {
   "cell_type": "markdown",
   "id": "10aad6ae",
   "metadata": {},
   "source": [
    "### 회고\n",
    "\n",
    "팀원들과 bucketing 적용 결과를 공유해보니\n",
    "\n",
    "일부 팀원은 속도 하락+성능 하락을 겪었고,\n",
    "\n",
    "일부 팀원은 속도 상승+성능 상승을 겪었습니다.\n",
    "\n",
    "저의 경우 속도 상승과 성능 상승을 겪었는데,\n",
    "\n",
    "이미 다이나믹 패딩을 적용한 상태에서 학습을 진행했기 때문에\n",
    "\n",
    "패딩 길이가 기존과 변하지 않고 길이가 비슷한 데이터들을 한 번에 처리해서\n",
    "\n",
    "성능이 향상된 것으로 보입니다.\n",
    "\n",
    "\n",
    "(추가) padding=True로 tokenizer 단계에서 padding을 진행하면 다이나믹 패딩이 아니라 batched tokenizer padding이 적용되었음을 퀘스트를 통해 확인하였습니다.\n",
    "\n",
    "batched tokenizer padding은 토크나이징 단계에서 토크나이저에 들어가는 배치만큼 padding하는것이고, padding=False로 적용하는 다이나믹 패딩은 훈련 중 배치만큼 padding하여 \n",
    "새로운 배치마다 적용되는 다이나믹패딩이 더 유연하고 효율적인 방법이라는 점을 공부부할 수 있었습니다."
   ]
  }
 ],
 "metadata": {
  "kernelspec": {
   "display_name": "Python 3 (ipykernel)",
   "language": "python",
   "name": "python3"
  },
  "language_info": {
   "codemirror_mode": {
    "name": "ipython",
    "version": 3
   },
   "file_extension": ".py",
   "mimetype": "text/x-python",
   "name": "python",
   "nbconvert_exporter": "python",
   "pygments_lexer": "ipython3",
   "version": "3.9.7"
  }
 },
 "nbformat": 4,
 "nbformat_minor": 5
}
